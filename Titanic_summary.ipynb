{
 "cells": [
  {
   "cell_type": "markdown",
   "metadata": {},
   "source": [
    "# The big question that people usually want to ask is: <span style=\"color:red\">What factors helped someone survive the sinking? </span>. \n",
    "\n",
    "# Q1. Who were the passengers on the Titanic? (Ages,Gender,Class,..etc).\n",
    "* There are way more male than female, ratio is almost 2:1\n",
    "* Much more of the 3rd class are male than female.\n",
    "* The 1st and 2nd classes are more or less even, even though there were a little bit more male than female, which is not\n",
    "surprised in that period.\n",
    "* Also, 3rd class has 500 passengers, while 2nd and 1st classes each has about 200 passengers only.\n",
    "* For both male and female, a bit more 1st class than 2nd class. For male, 3rd class tripple 1st class. For female, 3rd class 1.5 times more than 1st class.\n",
    "* Define a child as someone with age < 16. Then it turns out that there were way more children on the 3rd class than 1st and 2nd classes, which is interesting. We might have thought that for such a luxurious trip, there should have been way more \"pampered\" children on the 1st class than the 3rd class.\n",
    "* So there is a peak of really young children, then it drops down at around age=10, and then the rest is quite \"normal\" distribution with mean around age=30\n",
    "* If we use KDE plot of the 3 classes v.s. age: 1st class has almost normal distr, but the 2nd and 3rd classes skew (right) a bit toward the age=20-30 range.\n",
    "    \n",
    "# Q2. What deck were the passengers on and how does that relate to their class?\n",
    "* The decks are: A,B,C,D,E,F,G\n",
    "\n",
    "\n",
    "# Q3. Where did the passengers come from?\n",
    "* 3 origins of passengers: Cherbourg, Queenstown, Southhampton (C,Q,S).\n",
    "* An interesting find here is that in Queenstown, almost all the passengers that boarded there were 3rd class. It would be intersting to look at the economics of that town in that time period for further investigation.\n",
    "* Also check the economy of Cherbourg where there are a major fraction of boarding people being in 1st class.\n",
    "\n",
    "\n",
    "# Q4. Who was alone and who was with family?\n",
    "* There are a bit more people who were completely Alone than those who came up on board with some sort of family (siblings, spouses, parents, children).\n",
    "\n",
    "\n",
    "# Q5. What factors helped someone survive the sinking?\n",
    "* Quite a few more people died (550) than those who survived (350). \n",
    "* The survival rates for the 3rd class are substantially lower! But maybe this effect is being caused by the large amount of men in the 3rd class in combination with the women and children first policy.\n",
    "* It looks like being a male OR being in 3rd class were both not favourable for survival.\n",
    "* Even regardless of class the result of being a male in any class dramatically decreases your chances of survival.\n",
    "* There is a general trend that the older the passenger was, the less likely they survived.\n",
    "* There are more deaths in 3rd classes for all ages.\n",
    "* For female, survival chance increase with age. This trend is opposite for male. Older females have highest survival rate, while older males have least survival rate.\n",
    "\n",
    "\n",
    "# Q6. Did the deck have an effect on the passengers survival rate? Did this answer match up with your intuition?\n",
    "* Decks B,D,E have highest survival rates, followed by decks C, F. Deck A has lowest survival rate.\n",
    "* It seems that having been on deck level B, D or E chances would have been slightly higher to survive. These could be the decks where the lifeboat had been located.\n",
    "* Actually, answering this question is problematic due to the number of missing values. In the dataset cabin information exists for about 22 percent of the passengers; 204 passengers of the 891 passengers had cabin information. Moreover, the missing cabin information was predominant for second and third class passengers: 19% of first class passengers had missing information, 91% of second class, and 98% of third class.\n",
    "* The Titanic cabin decks were arranged sequentially from A at the top to G at the bottom. First class passenger cabins were on decks A through E, second class passengers on decks D through F, and third class on decks D through G. However, the Boat Deck, on which the life boats could be accessed, was located above the A Deck. The decks closest to the Boat Deck would seem to be advantaged, and only the first class cabins were on these decks.\n",
    "\n",
    "\n",
    "# Q7. Did having a family member increase the odds of surviving the crash?\n",
    "* If you are alone, high chance you do not survive. If you are with family, It doesn't matter.\n",
    "* Being a single female had biggest chance to survive. If you were a female, the bigger size of your family, the smaller you had chance to survive.\n",
    "* If you were a male, the bigger size of your family, the chance slighlty better "
   ]
  }
 ],
 "metadata": {
  "kernelspec": {
   "display_name": "Python [Root]",
   "language": "python",
   "name": "Python [Root]"
  },
  "language_info": {
   "codemirror_mode": {
    "name": "ipython",
    "version": 3
   },
   "file_extension": ".py",
   "mimetype": "text/x-python",
   "name": "python",
   "nbconvert_exporter": "python",
   "pygments_lexer": "ipython3",
   "version": "3.5.2"
  }
 },
 "nbformat": 4,
 "nbformat_minor": 0
}
